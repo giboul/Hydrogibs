{
 "cells": [
  {
   "cell_type": "code",
   "execution_count": null,
   "metadata": {},
   "outputs": [],
   "source": [
    "import os\n",
    "print(os.environ['_'])"
   ]
  },
  {
   "cell_type": "code",
   "execution_count": 2,
   "metadata": {},
   "outputs": [],
   "source": [
    "import hydrogibs as hg\n",
    "import pandas as pd\n",
    "from matplotlib import pyplot as plt\n",
    "plt.style.use(\"ggplot\")"
   ]
  },
  {
   "attachments": {},
   "cell_type": "markdown",
   "metadata": {},
   "source": [
    "## GR4"
   ]
  },
  {
   "cell_type": "code",
   "execution_count": null,
   "metadata": {},
   "outputs": [],
   "source": [
    "df = pd.read_csv(\"hydrogibs/test/floods/rain.csv\", parse_dates=[\"Date\"])\n",
    "rain = hg.GR4.Rain(df.Date, df.Rainfall)\n",
    "catchment = hg.floods.GR4.PresetCatchment(\"Rimbaud\", surface=1.8)\n",
    "\n",
    "event = rain @ catchment\n",
    "Qax, Pax, Vax = event.hydrograph(show=False).axes\n",
    "Pax.set_title(\"Rimbaud\")\n",
    "plt.show()\n",
    "\n",
    "# hg.GR4.App(catchment, rain)"
   ]
  },
  {
   "cell_type": "markdown",
   "metadata": {},
   "source": [
    "# Statistics"
   ]
  },
  {
   "cell_type": "code",
   "execution_count": null,
   "metadata": {},
   "outputs": [],
   "source": [
    "import pandas as pd\n",
    "\n",
    "df = pd.read_csv(\"hydrogibs/test/extreme/débits_mensuels_reyran.csv\")\n",
    "df.t = pd.to_datetime(df.t, format=\"%Y-%m-%d %H:%M:%S\")\n",
    "\n",
    "ym = hg.extreme.yearly_maxima.YearlyMaxima(df.Q)\n",
    "ym.plot(kind='return period')"
   ]
  },
  {
   "cell_type": "markdown",
   "metadata": {},
   "source": [
    "# Ressaut"
   ]
  },
  {
   "cell_type": "code",
   "execution_count": null,
   "metadata": {},
   "outputs": [],
   "source": [
    "hg.Ressaut(\n",
    "    q=10, i1=0.05, i2=0.002, p=0.5,\n",
    "    h0=2, ms_K=50, x0=10, xt=20, dx=0.25\n",
    ").diagram(figsize=(10, 3))"
   ]
  },
  {
   "cell_type": "markdown",
   "metadata": {},
   "source": [
    "# Water line computation for any profile"
   ]
  },
  {
   "cell_type": "code",
   "execution_count": null,
   "metadata": {},
   "outputs": [],
   "source": [
    "import pandas as pd\n",
    "from pathlib import Path\n",
    "from hydrogibs import Profile\n",
    "from matplotlib import pyplot as plt\n",
    "import numpy as np\n",
    "\n",
    "DIR = Path().parent / \"hydrogibs\" / \"fluvial\" / \"profiles\"\n",
    "\n",
    "df = pd.read_csv(DIR / 'closedProfile.csv')\n",
    "r = 10\n",
    "K=33\n",
    "Js=0.12/100\n",
    "profile = Profile(\n",
    "    (df.x+1)*r, (df.z+1)*r,\n",
    "    K=K, Js=Js\n",
    ")\n",
    "\n",
    "with plt.style.context('ggplot'):\n",
    "    fig, (ax1, ax2) = profile.plot()\n",
    "    ax2.dataLim.x1 = profile.Q.max()\n",
    "    ax2.autoscale_view()\n",
    "\n",
    "    # Analytical solution\n",
    "    theta = np.linspace(1e-10, np.pi)\n",
    "    S = theta*r**2 - r**2*np.cos(theta)*np.sin(theta)\n",
    "    P = 2*theta*r\n",
    "    Q = K*(S/P)**(2/3)*S*Js**0.5\n",
    "    h = r * (1-np.cos(theta))\n",
    "    ax2.plot(Q, h, alpha=0.5, label=\"$y_0$ (analytique)\")\n",
    "\n",
    "    ax1.legend(loc=\"upper left\").remove()\n",
    "    ax2.legend(loc=(0.2, 0.6)).get_frame().set_alpha(1)\n",
    "    ax2.set_ylim(ax1.get_ylim()-profile.z.min())\n",
    "    plt.show()"
   ]
  },
  {
   "cell_type": "code",
   "execution_count": null,
   "metadata": {},
   "outputs": [],
   "source": [
    "df = pd.read_csv(DIR / 'profile.csv')\n",
    "\n",
    "profile = Profile(\n",
    "    df['Dist. cumulée [m]'],\n",
    "    df['Altitude [m.s.m.]'],\n",
    "    K=33,\n",
    "    Js=0.12/100\n",
    ")\n",
    "\n",
    "with plt.style.context('ggplot'):\n",
    "    fig, (ax1, ax2) = profile.plot()\n",
    "    ax1.plot(df['Dist. cumulée [m]'],\n",
    "                df['Altitude [m.s.m.]'],\n",
    "                '-o', ms=8, c='gray', zorder=0,\n",
    "                lw=3, label=\"Profil complet\")\n",
    "    ax2.dataLim.x1 = profile.Q.max()\n",
    "    ax2.autoscale_view()\n",
    "    ax2.set_ylim(ax1.get_ylim()-profile.z.min())\n",
    "    plt.show()"
   ]
  },
  {
   "cell_type": "code",
   "execution_count": null,
   "metadata": {},
   "outputs": [],
   "source": []
  }
 ],
 "metadata": {
  "kernelspec": {
   "display_name": "penv",
   "language": "python",
   "name": "python3"
  },
  "language_info": {
   "codemirror_mode": {
    "name": "ipython",
    "version": 3
   },
   "file_extension": ".py",
   "mimetype": "text/x-python",
   "name": "python",
   "nbconvert_exporter": "python",
   "pygments_lexer": "ipython3",
   "version": "3.12.3"
  },
  "orig_nbformat": 4
 },
 "nbformat": 4,
 "nbformat_minor": 2
}
